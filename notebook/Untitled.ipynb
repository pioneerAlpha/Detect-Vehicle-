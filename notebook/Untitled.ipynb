{
 "cells": [
  {
   "cell_type": "code",
   "execution_count": 1,
   "metadata": {},
   "outputs": [],
   "source": [
    "import numpy as np # linear algebra\n",
    "import pandas as pd # data processing, CSV file I/O (e.g. pd.read_csv)\n",
    "import cv2\n",
    "import os"
   ]
  },
  {
   "cell_type": "code",
   "execution_count": 2,
   "metadata": {},
   "outputs": [],
   "source": [
    "import matplotlib.pyplot as plt\n",
    "import seaborn as sns\n",
    "from PIL import Image\n",
    "import random\n",
    "\n",
    "labels = ['rickshaw', 'easybike', 'cng']\n",
    "IMG_SIZE = 50\n",
    "\n",
    "def get_data_train(data_dir):\n",
    "  data = []\n",
    "  for label in labels:\n",
    "    path = os.path.join(data_dir, label)\n",
    "    print(path)\n",
    "    class_num = labels.index(label)\n",
    "    print(class_num)\n",
    "    for img in os.listdir(path):\n",
    "      try:\n",
    "        img_array = cv2.imread(os.path.join(path, img), cv2.IMREAD_COLOR)\n",
    "        new_array = cv2.resize(img_array, (IMG_SIZE, IMG_SIZE))\n",
    "        data.append([new_array, class_num])\n",
    "      except Exception as e:\n",
    "        print(e)\n",
    "  return np.array(data)"
   ]
  },
  {
   "cell_type": "code",
   "execution_count": 3,
   "metadata": {},
   "outputs": [
    {
     "name": "stdout",
     "output_type": "stream",
     "text": [
      "./data/rickshaw\n",
      "0\n",
      "./data/easybike\n",
      "1\n",
      "./data/cng\n",
      "2\n"
     ]
    },
    {
     "name": "stderr",
     "output_type": "stream",
     "text": [
      "c:\\users\\it park\\appdata\\local\\programs\\python\\python37\\lib\\site-packages\\ipykernel_launcher.py:23: VisibleDeprecationWarning: Creating an ndarray from ragged nested sequences (which is a list-or-tuple of lists-or-tuples-or ndarrays with different lengths or shapes) is deprecated. If you meant to do this, you must specify 'dtype=object' when creating the ndarray\n"
     ]
    }
   ],
   "source": [
    "dataset = get_data_train(\"./data/\")"
   ]
  },
  {
   "cell_type": "code",
   "execution_count": 4,
   "metadata": {},
   "outputs": [],
   "source": [
    "X = []\n",
    "y = []\n",
    "\n",
    "for feature, label in dataset:\n",
    "  X.append(feature)\n",
    "  y.append(label)"
   ]
  },
  {
   "cell_type": "code",
   "execution_count": 5,
   "metadata": {},
   "outputs": [],
   "source": [
    "from sklearn.preprocessing import LabelBinarizer # LabelBinarizer\n",
    "label_binarizer = LabelBinarizer()\n",
    "y = label_binarizer.fit_transform(y)"
   ]
  },
  {
   "cell_type": "code",
   "execution_count": 6,
   "metadata": {},
   "outputs": [],
   "source": [
    "from sklearn.model_selection import train_test_split\n",
    "seed = 42\n",
    "test_size = 0.2\n",
    "\n",
    "X_train, X_test, y_train, y_test = train_test_split(X, y, test_size=test_size, random_state=seed)"
   ]
  },
  {
   "cell_type": "code",
   "execution_count": 7,
   "metadata": {},
   "outputs": [],
   "source": [
    "X_train = np.array(X_train) / 255\n",
    "X_test = np.array(X_test) / 255"
   ]
  },
  {
   "cell_type": "code",
   "execution_count": 8,
   "metadata": {},
   "outputs": [],
   "source": [
    "X_train = X_train.reshape(-1, IMG_SIZE, IMG_SIZE, 3)\n",
    "y_train = np.array(y_train)\n",
    "\n",
    "X_test = X_test.reshape(-1, IMG_SIZE, IMG_SIZE, 3)\n",
    "y_test = np.array(y_test)"
   ]
  },
  {
   "cell_type": "code",
   "execution_count": 9,
   "metadata": {},
   "outputs": [],
   "source": [
    "import tensorflow as tf\n",
    "from tensorflow.keras.layers import Flatten, Conv2D, Activation, Dropout, Dense, MaxPooling2D\n",
    "from tensorflow.keras.models import Sequential"
   ]
  },
  {
   "cell_type": "code",
   "execution_count": 10,
   "metadata": {},
   "outputs": [
    {
     "name": "stdout",
     "output_type": "stream",
     "text": [
      "Epoch 1/100\n",
      "5/5 [==============================] - 1s 228ms/step - loss: 1.5565 - accuracy: 0.3881 - val_loss: 1.0961 - val_accuracy: 0.3235\n",
      "Epoch 2/100\n",
      "5/5 [==============================] - 1s 140ms/step - loss: 1.1036 - accuracy: 0.3881 - val_loss: 1.0958 - val_accuracy: 0.3824\n",
      "Epoch 3/100\n",
      "5/5 [==============================] - 1s 144ms/step - loss: 1.0836 - accuracy: 0.4254 - val_loss: 1.0895 - val_accuracy: 0.3824\n",
      "Epoch 4/100\n",
      "5/5 [==============================] - 1s 115ms/step - loss: 1.0787 - accuracy: 0.4254 - val_loss: 1.0805 - val_accuracy: 0.3824\n",
      "Epoch 5/100\n",
      "5/5 [==============================] - 1s 108ms/step - loss: 1.0617 - accuracy: 0.4328 - val_loss: 1.0524 - val_accuracy: 0.3824\n",
      "Epoch 6/100\n",
      "5/5 [==============================] - 1s 125ms/step - loss: 1.0409 - accuracy: 0.4328 - val_loss: 1.0061 - val_accuracy: 0.7647\n",
      "Epoch 7/100\n",
      "5/5 [==============================] - 1s 144ms/step - loss: 1.0355 - accuracy: 0.5000 - val_loss: 0.9436 - val_accuracy: 0.7941\n",
      "Epoch 8/100\n",
      "5/5 [==============================] - 1s 111ms/step - loss: 0.9416 - accuracy: 0.5448 - val_loss: 0.8241 - val_accuracy: 0.8235\n",
      "Epoch 9/100\n",
      "5/5 [==============================] - 1s 123ms/step - loss: 0.9259 - accuracy: 0.5746 - val_loss: 0.7170 - val_accuracy: 0.8235\n",
      "Epoch 10/100\n",
      "5/5 [==============================] - 1s 108ms/step - loss: 0.8426 - accuracy: 0.5970 - val_loss: 0.6479 - val_accuracy: 0.8235\n",
      "Epoch 11/100\n",
      "5/5 [==============================] - 1s 107ms/step - loss: 0.7518 - accuracy: 0.7090 - val_loss: 0.5755 - val_accuracy: 0.8529\n",
      "Epoch 12/100\n",
      "5/5 [==============================] - 1s 117ms/step - loss: 0.6825 - accuracy: 0.7015 - val_loss: 0.4940 - val_accuracy: 0.7941\n",
      "Epoch 13/100\n",
      "5/5 [==============================] - 1s 113ms/step - loss: 0.6410 - accuracy: 0.7313 - val_loss: 0.4244 - val_accuracy: 0.8529\n",
      "Epoch 14/100\n",
      "5/5 [==============================] - 1s 111ms/step - loss: 0.6485 - accuracy: 0.7164 - val_loss: 0.5141 - val_accuracy: 0.8529\n",
      "Epoch 15/100\n",
      "5/5 [==============================] - 1s 122ms/step - loss: 0.6243 - accuracy: 0.7687 - val_loss: 0.3998 - val_accuracy: 0.9118\n",
      "Epoch 16/100\n",
      "5/5 [==============================] - 1s 112ms/step - loss: 0.5756 - accuracy: 0.7836 - val_loss: 0.4019 - val_accuracy: 0.8824\n",
      "Epoch 17/100\n",
      "5/5 [==============================] - 1s 108ms/step - loss: 0.4938 - accuracy: 0.8284 - val_loss: 0.3747 - val_accuracy: 0.9412\n",
      "Epoch 18/100\n",
      "5/5 [==============================] - 1s 116ms/step - loss: 0.5081 - accuracy: 0.8284 - val_loss: 0.2710 - val_accuracy: 0.9118\n",
      "Epoch 19/100\n",
      "5/5 [==============================] - 1s 109ms/step - loss: 0.4285 - accuracy: 0.8507 - val_loss: 0.2845 - val_accuracy: 0.9706\n",
      "Epoch 20/100\n",
      "5/5 [==============================] - 1s 111ms/step - loss: 0.3776 - accuracy: 0.8582 - val_loss: 0.3463 - val_accuracy: 0.8824\n",
      "Epoch 21/100\n",
      "5/5 [==============================] - 1s 117ms/step - loss: 0.3969 - accuracy: 0.8582 - val_loss: 0.3020 - val_accuracy: 0.9118\n",
      "Epoch 22/100\n",
      "5/5 [==============================] - 1s 106ms/step - loss: 0.3584 - accuracy: 0.8657 - val_loss: 0.2471 - val_accuracy: 0.9118\n",
      "Epoch 23/100\n",
      "5/5 [==============================] - 1s 112ms/step - loss: 0.3098 - accuracy: 0.8731 - val_loss: 0.2369 - val_accuracy: 0.9118\n",
      "Epoch 24/100\n",
      "5/5 [==============================] - 1s 129ms/step - loss: 0.2826 - accuracy: 0.8955 - val_loss: 0.1868 - val_accuracy: 0.9118\n",
      "Epoch 25/100\n",
      "5/5 [==============================] - 1s 129ms/step - loss: 0.2398 - accuracy: 0.9328 - val_loss: 0.1847 - val_accuracy: 0.9118\n",
      "Epoch 26/100\n",
      "5/5 [==============================] - 1s 153ms/step - loss: 0.2490 - accuracy: 0.9104 - val_loss: 0.1974 - val_accuracy: 0.8824\n",
      "Epoch 27/100\n",
      "5/5 [==============================] - 1s 141ms/step - loss: 0.2737 - accuracy: 0.8806 - val_loss: 0.2862 - val_accuracy: 0.9118\n",
      "Epoch 28/100\n",
      "5/5 [==============================] - 1s 120ms/step - loss: 0.2551 - accuracy: 0.9030 - val_loss: 0.1500 - val_accuracy: 0.9412\n",
      "Epoch 29/100\n",
      "5/5 [==============================] - 1s 120ms/step - loss: 0.2205 - accuracy: 0.9030 - val_loss: 0.2336 - val_accuracy: 0.9118\n",
      "Epoch 30/100\n",
      "5/5 [==============================] - 1s 144ms/step - loss: 0.2165 - accuracy: 0.9328 - val_loss: 0.2864 - val_accuracy: 0.8824\n",
      "Epoch 31/100\n",
      "5/5 [==============================] - 1s 126ms/step - loss: 0.1759 - accuracy: 0.9403 - val_loss: 0.1956 - val_accuracy: 0.9118\n",
      "Epoch 32/100\n",
      "5/5 [==============================] - 1s 132ms/step - loss: 0.1523 - accuracy: 0.9328 - val_loss: 0.2848 - val_accuracy: 0.8824\n",
      "Epoch 33/100\n",
      "5/5 [==============================] - 1s 117ms/step - loss: 0.1210 - accuracy: 0.9627 - val_loss: 0.2187 - val_accuracy: 0.9706\n",
      "Epoch 34/100\n",
      "5/5 [==============================] - 1s 111ms/step - loss: 0.1829 - accuracy: 0.9179 - val_loss: 0.2510 - val_accuracy: 0.8824\n",
      "Epoch 35/100\n",
      "5/5 [==============================] - 1s 119ms/step - loss: 0.1181 - accuracy: 0.9627 - val_loss: 0.2618 - val_accuracy: 0.8824\n",
      "Epoch 36/100\n",
      "5/5 [==============================] - 1s 132ms/step - loss: 0.0934 - accuracy: 0.9701 - val_loss: 0.2171 - val_accuracy: 0.9412\n",
      "Epoch 37/100\n",
      "5/5 [==============================] - 1s 126ms/step - loss: 0.0962 - accuracy: 0.9701 - val_loss: 0.2924 - val_accuracy: 0.8824\n",
      "Epoch 38/100\n",
      "5/5 [==============================] - 1s 127ms/step - loss: 0.0686 - accuracy: 0.9776 - val_loss: 0.2285 - val_accuracy: 0.9118\n",
      "Epoch 39/100\n",
      "5/5 [==============================] - 1s 131ms/step - loss: 0.0697 - accuracy: 0.9851 - val_loss: 0.3376 - val_accuracy: 0.9118\n",
      "Epoch 40/100\n",
      "5/5 [==============================] - 1s 111ms/step - loss: 0.0789 - accuracy: 0.9851 - val_loss: 0.2048 - val_accuracy: 0.9412\n",
      "Epoch 41/100\n",
      "5/5 [==============================] - 1s 134ms/step - loss: 0.0482 - accuracy: 0.9925 - val_loss: 0.2989 - val_accuracy: 0.8824\n",
      "Epoch 42/100\n",
      "5/5 [==============================] - 1s 138ms/step - loss: 0.0577 - accuracy: 0.9851 - val_loss: 0.2412 - val_accuracy: 0.9412\n",
      "Epoch 43/100\n",
      "5/5 [==============================] - 1s 127ms/step - loss: 0.0371 - accuracy: 0.9925 - val_loss: 0.2538 - val_accuracy: 0.9118\n",
      "Epoch 44/100\n",
      "5/5 [==============================] - 1s 135ms/step - loss: 0.0534 - accuracy: 0.9851 - val_loss: 0.3306 - val_accuracy: 0.9118\n",
      "Epoch 45/100\n",
      "5/5 [==============================] - 1s 125ms/step - loss: 0.0966 - accuracy: 0.9701 - val_loss: 0.3509 - val_accuracy: 0.8529\n",
      "Epoch 46/100\n",
      "5/5 [==============================] - 1s 134ms/step - loss: 0.1064 - accuracy: 0.9701 - val_loss: 0.1775 - val_accuracy: 0.9412\n",
      "Epoch 47/100\n",
      "5/5 [==============================] - 1s 146ms/step - loss: 0.0777 - accuracy: 0.9701 - val_loss: 0.2441 - val_accuracy: 0.9118\n",
      "Epoch 48/100\n",
      "5/5 [==============================] - 1s 129ms/step - loss: 0.0452 - accuracy: 0.9925 - val_loss: 0.2344 - val_accuracy: 0.9706\n",
      "Epoch 49/100\n",
      "5/5 [==============================] - 1s 111ms/step - loss: 0.0366 - accuracy: 0.9925 - val_loss: 0.2453 - val_accuracy: 0.9412\n",
      "Epoch 50/100\n",
      "5/5 [==============================] - 1s 127ms/step - loss: 0.0269 - accuracy: 1.0000 - val_loss: 0.2629 - val_accuracy: 0.9118\n",
      "Epoch 51/100\n",
      "5/5 [==============================] - 1s 138ms/step - loss: 0.0270 - accuracy: 1.0000 - val_loss: 0.2925 - val_accuracy: 0.9118\n",
      "Epoch 52/100\n",
      "5/5 [==============================] - 1s 133ms/step - loss: 0.0156 - accuracy: 1.0000 - val_loss: 0.2736 - val_accuracy: 0.9412\n",
      "Epoch 53/100\n",
      "5/5 [==============================] - 1s 153ms/step - loss: 0.0173 - accuracy: 1.0000 - val_loss: 0.3280 - val_accuracy: 0.9118\n",
      "Epoch 54/100\n",
      "5/5 [==============================] - 1s 137ms/step - loss: 0.0162 - accuracy: 1.0000 - val_loss: 0.3107 - val_accuracy: 0.9412\n",
      "Epoch 55/100\n",
      "5/5 [==============================] - 1s 131ms/step - loss: 0.0125 - accuracy: 1.0000 - val_loss: 0.3416 - val_accuracy: 0.9118\n",
      "Epoch 56/100\n",
      "5/5 [==============================] - 1s 137ms/step - loss: 0.0227 - accuracy: 0.9925 - val_loss: 0.3655 - val_accuracy: 0.9118\n",
      "Epoch 57/100\n",
      "5/5 [==============================] - 1s 135ms/step - loss: 0.0156 - accuracy: 0.9925 - val_loss: 0.3096 - val_accuracy: 0.9118\n",
      "Epoch 58/100\n",
      "5/5 [==============================] - 1s 136ms/step - loss: 0.0137 - accuracy: 1.0000 - val_loss: 0.3383 - val_accuracy: 0.9118\n"
     ]
    },
    {
     "name": "stdout",
     "output_type": "stream",
     "text": [
      "Epoch 59/100\n",
      "5/5 [==============================] - 1s 132ms/step - loss: 0.0094 - accuracy: 1.0000 - val_loss: 0.2737 - val_accuracy: 0.9412\n",
      "Epoch 60/100\n",
      "5/5 [==============================] - 1s 132ms/step - loss: 0.0084 - accuracy: 1.0000 - val_loss: 0.3712 - val_accuracy: 0.8824\n",
      "Epoch 61/100\n",
      "5/5 [==============================] - 1s 128ms/step - loss: 0.0117 - accuracy: 1.0000 - val_loss: 0.3074 - val_accuracy: 0.9118\n",
      "Epoch 62/100\n",
      "5/5 [==============================] - 1s 133ms/step - loss: 0.0095 - accuracy: 1.0000 - val_loss: 0.3264 - val_accuracy: 0.9118\n",
      "Epoch 63/100\n",
      "5/5 [==============================] - 1s 104ms/step - loss: 0.0041 - accuracy: 1.0000 - val_loss: 0.4123 - val_accuracy: 0.8824\n",
      "Epoch 64/100\n",
      "5/5 [==============================] - 1s 110ms/step - loss: 0.0102 - accuracy: 1.0000 - val_loss: 0.3942 - val_accuracy: 0.9118\n",
      "Epoch 65/100\n",
      "5/5 [==============================] - 1s 114ms/step - loss: 0.0084 - accuracy: 1.0000 - val_loss: 0.3684 - val_accuracy: 0.9118\n",
      "Epoch 66/100\n",
      "5/5 [==============================] - 1s 107ms/step - loss: 0.0073 - accuracy: 1.0000 - val_loss: 0.4882 - val_accuracy: 0.8824\n",
      "Epoch 67/100\n",
      "5/5 [==============================] - 1s 110ms/step - loss: 0.0035 - accuracy: 1.0000 - val_loss: 0.4844 - val_accuracy: 0.8824\n",
      "Epoch 68/100\n",
      "5/5 [==============================] - 1s 118ms/step - loss: 0.0065 - accuracy: 1.0000 - val_loss: 0.4236 - val_accuracy: 0.9118\n",
      "Epoch 69/100\n",
      "5/5 [==============================] - 1s 107ms/step - loss: 0.0035 - accuracy: 1.0000 - val_loss: 0.4362 - val_accuracy: 0.8824\n",
      "Epoch 70/100\n",
      "5/5 [==============================] - 1s 111ms/step - loss: 0.0031 - accuracy: 1.0000 - val_loss: 0.4112 - val_accuracy: 0.9118\n",
      "Epoch 71/100\n",
      "5/5 [==============================] - 1s 115ms/step - loss: 0.0032 - accuracy: 1.0000 - val_loss: 0.3868 - val_accuracy: 0.9118\n",
      "Epoch 72/100\n",
      "5/5 [==============================] - 1s 106ms/step - loss: 0.0043 - accuracy: 1.0000 - val_loss: 0.4033 - val_accuracy: 0.8824\n",
      "Epoch 73/100\n",
      "5/5 [==============================] - 1s 117ms/step - loss: 0.0033 - accuracy: 1.0000 - val_loss: 0.4347 - val_accuracy: 0.8824\n",
      "Epoch 74/100\n",
      "5/5 [==============================] - 1s 114ms/step - loss: 0.0013 - accuracy: 1.0000 - val_loss: 0.4621 - val_accuracy: 0.8824\n",
      "Epoch 75/100\n",
      "5/5 [==============================] - 1s 108ms/step - loss: 0.0015 - accuracy: 1.0000 - val_loss: 0.4768 - val_accuracy: 0.8824\n",
      "Epoch 76/100\n",
      "5/5 [==============================] - 1s 115ms/step - loss: 0.0015 - accuracy: 1.0000 - val_loss: 0.4719 - val_accuracy: 0.8824\n",
      "Epoch 77/100\n",
      "5/5 [==============================] - 1s 114ms/step - loss: 0.0025 - accuracy: 1.0000 - val_loss: 0.4576 - val_accuracy: 0.9118\n",
      "Epoch 78/100\n",
      "5/5 [==============================] - 1s 108ms/step - loss: 0.0014 - accuracy: 1.0000 - val_loss: 0.4611 - val_accuracy: 0.8824\n",
      "Epoch 79/100\n",
      "5/5 [==============================] - 1s 111ms/step - loss: 0.0018 - accuracy: 1.0000 - val_loss: 0.4738 - val_accuracy: 0.8824\n",
      "Epoch 80/100\n",
      "5/5 [==============================] - 1s 116ms/step - loss: 0.0012 - accuracy: 1.0000 - val_loss: 0.4668 - val_accuracy: 0.8824\n",
      "Epoch 81/100\n",
      "5/5 [==============================] - 1s 107ms/step - loss: 0.0013 - accuracy: 1.0000 - val_loss: 0.4546 - val_accuracy: 0.8824\n",
      "Epoch 82/100\n",
      "5/5 [==============================] - 1s 113ms/step - loss: 0.0013 - accuracy: 1.0000 - val_loss: 0.4531 - val_accuracy: 0.9118\n",
      "Epoch 83/100\n",
      "5/5 [==============================] - 1s 113ms/step - loss: 0.0013 - accuracy: 1.0000 - val_loss: 0.4744 - val_accuracy: 0.8824\n",
      "Epoch 84/100\n",
      "5/5 [==============================] - 1s 108ms/step - loss: 0.0013 - accuracy: 1.0000 - val_loss: 0.5184 - val_accuracy: 0.8824\n",
      "Epoch 85/100\n",
      "5/5 [==============================] - 1s 114ms/step - loss: 7.0168e-04 - accuracy: 1.0000 - val_loss: 0.5337 - val_accuracy: 0.8824\n",
      "Epoch 86/100\n",
      "5/5 [==============================] - 1s 112ms/step - loss: 8.9727e-04 - accuracy: 1.0000 - val_loss: 0.5176 - val_accuracy: 0.8824\n",
      "Epoch 87/100\n",
      "5/5 [==============================] - 1s 138ms/step - loss: 9.6900e-04 - accuracy: 1.0000 - val_loss: 0.5252 - val_accuracy: 0.8824\n",
      "Epoch 88/100\n",
      "5/5 [==============================] - 1s 133ms/step - loss: 0.0011 - accuracy: 1.0000 - val_loss: 0.5204 - val_accuracy: 0.8824\n",
      "Epoch 89/100\n",
      "5/5 [==============================] - 1s 111ms/step - loss: 0.0011 - accuracy: 1.0000 - val_loss: 0.5014 - val_accuracy: 0.8824\n",
      "Epoch 90/100\n",
      "5/5 [==============================] - 1s 134ms/step - loss: 8.2745e-04 - accuracy: 1.0000 - val_loss: 0.4821 - val_accuracy: 0.8824\n",
      "Epoch 91/100\n",
      "5/5 [==============================] - 1s 133ms/step - loss: 6.1058e-04 - accuracy: 1.0000 - val_loss: 0.4845 - val_accuracy: 0.9118\n",
      "Epoch 92/100\n",
      "5/5 [==============================] - 1s 122ms/step - loss: 7.5101e-04 - accuracy: 1.0000 - val_loss: 0.4986 - val_accuracy: 0.8824\n",
      "Epoch 93/100\n",
      "5/5 [==============================] - 1s 130ms/step - loss: 4.6332e-04 - accuracy: 1.0000 - val_loss: 0.5020 - val_accuracy: 0.8824\n",
      "Epoch 94/100\n",
      "5/5 [==============================] - 1s 136ms/step - loss: 9.0456e-04 - accuracy: 1.0000 - val_loss: 0.4919 - val_accuracy: 0.8824\n",
      "Epoch 95/100\n",
      "5/5 [==============================] - 1s 111ms/step - loss: 8.4538e-04 - accuracy: 1.0000 - val_loss: 0.4748 - val_accuracy: 0.9118\n",
      "Epoch 96/100\n",
      "5/5 [==============================] - 1s 129ms/step - loss: 5.8219e-04 - accuracy: 1.0000 - val_loss: 0.4725 - val_accuracy: 0.9118\n",
      "Epoch 97/100\n",
      "5/5 [==============================] - 1s 136ms/step - loss: 8.4661e-04 - accuracy: 1.0000 - val_loss: 0.4981 - val_accuracy: 0.8824\n",
      "Epoch 98/100\n",
      "5/5 [==============================] - 1s 125ms/step - loss: 5.9881e-04 - accuracy: 1.0000 - val_loss: 0.5165 - val_accuracy: 0.8824\n",
      "Epoch 99/100\n",
      "5/5 [==============================] - 1s 120ms/step - loss: 6.8122e-04 - accuracy: 1.0000 - val_loss: 0.5129 - val_accuracy: 0.8824\n",
      "Epoch 100/100\n",
      "5/5 [==============================] - 1s 127ms/step - loss: 0.0021 - accuracy: 1.0000 - val_loss: 0.4408 - val_accuracy: 0.9118\n"
     ]
    }
   ],
   "source": [
    "model = Sequential()\n",
    "\n",
    "model.add(Conv2D(32, (3, 3), padding=\"same\", input_shape=X_train.shape[1:]))\n",
    "model.add(Activation(\"relu\"))\n",
    "model.add(MaxPooling2D(2, 2))\n",
    "model.add(Dropout(0.2))\n",
    "\n",
    "model.add(Conv2D(64, (3, 3), padding=\"same\"))\n",
    "model.add(Activation(\"relu\"))\n",
    "model.add(MaxPooling2D(2, 2))\n",
    "model.add(Dropout(0.2))\n",
    "\n",
    "model.add(Conv2D(128, (3, 3), padding=\"same\"))\n",
    "model.add(Activation(\"relu\"))\n",
    "model.add(MaxPooling2D(2, 2))\n",
    "model.add(Dropout(0.1))\n",
    "\n",
    "# model.add(Conv2D(256, (3, 3), padding=\"same\"))\n",
    "# model.add(Activation(\"relu\"))\n",
    "# model.add(MaxPooling2D(2, 2))\n",
    "# model.add(Dropout(0.1))\n",
    "\n",
    "model.add(Flatten())\n",
    "model.add(Dense(128, activation=\"relu\"))\n",
    "\n",
    "model.add(Dense(len(labels)))\n",
    "model.add(Activation(\"softmax\"))\n",
    "\n",
    "model.compile(loss=\"categorical_crossentropy\", optimizer=\"adam\", metrics=[\"accuracy\"])\n",
    "history = model.fit(X_train, y_train, epochs=100, validation_data=(X_test, y_test), shuffle=True)"
   ]
  },
  {
   "cell_type": "code",
   "execution_count": 11,
   "metadata": {},
   "outputs": [
    {
     "data": {
      "text/plain": [
       "array([2, 1, 2, 0, 2, 2, 2, 0, 2, 1, 0, 2, 2, 0, 1, 1, 1, 2, 2, 2, 0, 0,\n",
       "       0, 0, 0, 0, 1, 2, 1, 0, 0, 0, 2, 2], dtype=int64)"
      ]
     },
     "execution_count": 11,
     "metadata": {},
     "output_type": "execute_result"
    }
   ],
   "source": [
    "pred = np.argmax(model.predict(X_test), axis=-1)\n",
    "pred"
   ]
  },
  {
   "cell_type": "code",
   "execution_count": 12,
   "metadata": {},
   "outputs": [
    {
     "name": "stdout",
     "output_type": "stream",
     "text": [
      "WARNING:tensorflow:From c:\\users\\it park\\appdata\\local\\programs\\python\\python37\\lib\\site-packages\\tensorflow\\python\\ops\\resource_variable_ops.py:1817: calling BaseResourceVariable.__init__ (from tensorflow.python.ops.resource_variable_ops) with constraint is deprecated and will be removed in a future version.\n",
      "Instructions for updating:\n",
      "If using Keras pass *_constraint arguments to layers.\n",
      "INFO:tensorflow:Assets written to: cnn.model\\assets\n"
     ]
    }
   ],
   "source": [
    "model.save(\"cnn.model\")\n",
    "model.save(\"c.h5\")\n",
    "labels = ['rickshaw', 'easybike', 'cng']\n",
    "def prepare(filepath):\n",
    "    img_array = cv2.imread(filepath, cv2.IMREAD_COLOR)\n",
    "    new_array = cv2.resize(img_array, (IMG_SIZE, IMG_SIZE))\n",
    "    return new_array.reshape(-1, IMG_SIZE, IMG_SIZE, 3)\n",
    "\n",
    "model = tf.keras.models.load_model(\"c.h5\")"
   ]
  },
  {
   "cell_type": "code",
   "execution_count": 13,
   "metadata": {},
   "outputs": [
    {
     "name": "stdout",
     "output_type": "stream",
     "text": [
      "WARNING:tensorflow:From <ipython-input-13-c2084cd76157>:1: Sequential.predict_classes (from tensorflow.python.keras.engine.sequential) is deprecated and will be removed after 2021-01-01.\n",
      "Instructions for updating:\n",
      "Please use instead:* `np.argmax(model.predict(x), axis=-1)`,   if your model does multi-class classification   (e.g. if it uses a `softmax` last-layer activation).* `(model.predict(x) > 0.5).astype(\"int32\")`,   if your model does binary classification   (e.g. if it uses a `sigmoid` last-layer activation).\n",
      "cng\n"
     ]
    }
   ],
   "source": [
    "prediction = model.predict_classes([prepare(\"OBHAI-CNG-2.jpg\")])\n",
    "print(labels[(prediction[0])])"
   ]
  },
  {
   "cell_type": "code",
   "execution_count": 14,
   "metadata": {},
   "outputs": [
    {
     "name": "stderr",
     "output_type": "stream",
     "text": [
      "Using TensorFlow backend.\n"
     ]
    },
    {
     "name": "stdout",
     "output_type": "stream",
     "text": [
      "Saved model to disk\n"
     ]
    }
   ],
   "source": [
    "from keras.models import model_from_json\n",
    "\n",
    "# serialize model to JSON\n",
    "model_json = model.to_json()\n",
    "with open(\"a.json\", \"w\") as json_file:\n",
    "    json_file.write(model_json)\n",
    "# serialize weights to HDF5\n",
    "model.save_weights(\"a.h5\")\n",
    "print(\"Saved model to disk\")"
   ]
  },
  {
   "cell_type": "code",
   "execution_count": null,
   "metadata": {},
   "outputs": [],
   "source": []
  }
 ],
 "metadata": {
  "kernelspec": {
   "display_name": "Python 3",
   "language": "python",
   "name": "python3"
  },
  "language_info": {
   "codemirror_mode": {
    "name": "ipython",
    "version": 3
   },
   "file_extension": ".py",
   "mimetype": "text/x-python",
   "name": "python",
   "nbconvert_exporter": "python",
   "pygments_lexer": "ipython3",
   "version": "3.7.8"
  }
 },
 "nbformat": 4,
 "nbformat_minor": 4
}
